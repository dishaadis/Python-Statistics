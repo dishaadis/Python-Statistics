{
 "cells": [
  {
   "cell_type": "markdown",
   "id": "5be89440-328a-4d09-9e37-a6ac104c880a",
   "metadata": {},
   "source": [
    "# Homework Week 7"
   ]
  },
  {
   "cell_type": "markdown",
   "id": "071b941e-b9fb-4cf7-b994-601f3f0d9aed",
   "metadata": {},
   "source": [
    "Nama  : Radisha Fanni Sianti <br> Batch : 31"
   ]
  },
  {
   "cell_type": "code",
   "execution_count": 2,
   "id": "b02d2d87-0415-4454-9dc0-60a44b2a1674",
   "metadata": {},
   "outputs": [],
   "source": [
    "import pandas as pd\n",
    "import numpy as np\n",
    "import matplotlib\n",
    "import matplotlib.pyplot as plt\n",
    "import seaborn as sns\n",
    "import scipy.stats as st"
   ]
  },
  {
   "cell_type": "code",
   "execution_count": 3,
   "id": "0b891101-22ef-464e-894b-e42c8918b450",
   "metadata": {},
   "outputs": [
    {
     "data": {
      "text/html": [
       "<div>\n",
       "<style scoped>\n",
       "    .dataframe tbody tr th:only-of-type {\n",
       "        vertical-align: middle;\n",
       "    }\n",
       "\n",
       "    .dataframe tbody tr th {\n",
       "        vertical-align: top;\n",
       "    }\n",
       "\n",
       "    .dataframe thead th {\n",
       "        text-align: right;\n",
       "    }\n",
       "</style>\n",
       "<table border=\"1\" class=\"dataframe\">\n",
       "  <thead>\n",
       "    <tr style=\"text-align: right;\">\n",
       "      <th></th>\n",
       "      <th>Id</th>\n",
       "      <th>MSSubClass</th>\n",
       "      <th>MSZoning</th>\n",
       "      <th>LotFrontage</th>\n",
       "      <th>LotArea</th>\n",
       "      <th>Street</th>\n",
       "      <th>Alley</th>\n",
       "      <th>LotShape</th>\n",
       "      <th>LandContour</th>\n",
       "      <th>Utilities</th>\n",
       "      <th>...</th>\n",
       "      <th>PoolArea</th>\n",
       "      <th>PoolQC</th>\n",
       "      <th>Fence</th>\n",
       "      <th>MiscFeature</th>\n",
       "      <th>MiscVal</th>\n",
       "      <th>MoSold</th>\n",
       "      <th>YrSold</th>\n",
       "      <th>SaleType</th>\n",
       "      <th>SaleCondition</th>\n",
       "      <th>SalePrice</th>\n",
       "    </tr>\n",
       "  </thead>\n",
       "  <tbody>\n",
       "    <tr>\n",
       "      <th>0</th>\n",
       "      <td>1</td>\n",
       "      <td>60</td>\n",
       "      <td>RL</td>\n",
       "      <td>65.0</td>\n",
       "      <td>8450</td>\n",
       "      <td>Pave</td>\n",
       "      <td>NaN</td>\n",
       "      <td>Reg</td>\n",
       "      <td>Lvl</td>\n",
       "      <td>AllPub</td>\n",
       "      <td>...</td>\n",
       "      <td>0</td>\n",
       "      <td>NaN</td>\n",
       "      <td>NaN</td>\n",
       "      <td>NaN</td>\n",
       "      <td>0</td>\n",
       "      <td>2</td>\n",
       "      <td>2008</td>\n",
       "      <td>WD</td>\n",
       "      <td>Normal</td>\n",
       "      <td>208500</td>\n",
       "    </tr>\n",
       "    <tr>\n",
       "      <th>1</th>\n",
       "      <td>2</td>\n",
       "      <td>20</td>\n",
       "      <td>RL</td>\n",
       "      <td>80.0</td>\n",
       "      <td>9600</td>\n",
       "      <td>Pave</td>\n",
       "      <td>NaN</td>\n",
       "      <td>Reg</td>\n",
       "      <td>Lvl</td>\n",
       "      <td>AllPub</td>\n",
       "      <td>...</td>\n",
       "      <td>0</td>\n",
       "      <td>NaN</td>\n",
       "      <td>NaN</td>\n",
       "      <td>NaN</td>\n",
       "      <td>0</td>\n",
       "      <td>5</td>\n",
       "      <td>2007</td>\n",
       "      <td>WD</td>\n",
       "      <td>Normal</td>\n",
       "      <td>181500</td>\n",
       "    </tr>\n",
       "    <tr>\n",
       "      <th>2</th>\n",
       "      <td>3</td>\n",
       "      <td>60</td>\n",
       "      <td>RL</td>\n",
       "      <td>68.0</td>\n",
       "      <td>11250</td>\n",
       "      <td>Pave</td>\n",
       "      <td>NaN</td>\n",
       "      <td>IR1</td>\n",
       "      <td>Lvl</td>\n",
       "      <td>AllPub</td>\n",
       "      <td>...</td>\n",
       "      <td>0</td>\n",
       "      <td>NaN</td>\n",
       "      <td>NaN</td>\n",
       "      <td>NaN</td>\n",
       "      <td>0</td>\n",
       "      <td>9</td>\n",
       "      <td>2008</td>\n",
       "      <td>WD</td>\n",
       "      <td>Normal</td>\n",
       "      <td>223500</td>\n",
       "    </tr>\n",
       "    <tr>\n",
       "      <th>3</th>\n",
       "      <td>4</td>\n",
       "      <td>70</td>\n",
       "      <td>RL</td>\n",
       "      <td>60.0</td>\n",
       "      <td>9550</td>\n",
       "      <td>Pave</td>\n",
       "      <td>NaN</td>\n",
       "      <td>IR1</td>\n",
       "      <td>Lvl</td>\n",
       "      <td>AllPub</td>\n",
       "      <td>...</td>\n",
       "      <td>0</td>\n",
       "      <td>NaN</td>\n",
       "      <td>NaN</td>\n",
       "      <td>NaN</td>\n",
       "      <td>0</td>\n",
       "      <td>2</td>\n",
       "      <td>2006</td>\n",
       "      <td>WD</td>\n",
       "      <td>Abnorml</td>\n",
       "      <td>140000</td>\n",
       "    </tr>\n",
       "    <tr>\n",
       "      <th>4</th>\n",
       "      <td>5</td>\n",
       "      <td>60</td>\n",
       "      <td>RL</td>\n",
       "      <td>84.0</td>\n",
       "      <td>14260</td>\n",
       "      <td>Pave</td>\n",
       "      <td>NaN</td>\n",
       "      <td>IR1</td>\n",
       "      <td>Lvl</td>\n",
       "      <td>AllPub</td>\n",
       "      <td>...</td>\n",
       "      <td>0</td>\n",
       "      <td>NaN</td>\n",
       "      <td>NaN</td>\n",
       "      <td>NaN</td>\n",
       "      <td>0</td>\n",
       "      <td>12</td>\n",
       "      <td>2008</td>\n",
       "      <td>WD</td>\n",
       "      <td>Normal</td>\n",
       "      <td>250000</td>\n",
       "    </tr>\n",
       "  </tbody>\n",
       "</table>\n",
       "<p>5 rows × 81 columns</p>\n",
       "</div>"
      ],
      "text/plain": [
       "   Id  MSSubClass MSZoning  LotFrontage  LotArea Street Alley LotShape  \\\n",
       "0   1          60       RL         65.0     8450   Pave   NaN      Reg   \n",
       "1   2          20       RL         80.0     9600   Pave   NaN      Reg   \n",
       "2   3          60       RL         68.0    11250   Pave   NaN      IR1   \n",
       "3   4          70       RL         60.0     9550   Pave   NaN      IR1   \n",
       "4   5          60       RL         84.0    14260   Pave   NaN      IR1   \n",
       "\n",
       "  LandContour Utilities  ... PoolArea PoolQC Fence MiscFeature MiscVal MoSold  \\\n",
       "0         Lvl    AllPub  ...        0    NaN   NaN         NaN       0      2   \n",
       "1         Lvl    AllPub  ...        0    NaN   NaN         NaN       0      5   \n",
       "2         Lvl    AllPub  ...        0    NaN   NaN         NaN       0      9   \n",
       "3         Lvl    AllPub  ...        0    NaN   NaN         NaN       0      2   \n",
       "4         Lvl    AllPub  ...        0    NaN   NaN         NaN       0     12   \n",
       "\n",
       "  YrSold  SaleType  SaleCondition  SalePrice  \n",
       "0   2008        WD         Normal     208500  \n",
       "1   2007        WD         Normal     181500  \n",
       "2   2008        WD         Normal     223500  \n",
       "3   2006        WD        Abnorml     140000  \n",
       "4   2008        WD         Normal     250000  \n",
       "\n",
       "[5 rows x 81 columns]"
      ]
     },
     "execution_count": 3,
     "metadata": {},
     "output_type": "execute_result"
    }
   ],
   "source": [
    "#Data\n",
    "data = pd.read_csv(\"train.csv\")\n",
    "data.head()"
   ]
  },
  {
   "cell_type": "markdown",
   "id": "3dd43887-35dc-45dc-8020-adca806ccddb",
   "metadata": {},
   "source": [
    "## Soal Pertama\n",
    "Tunjukkan statistika deskriptif untuk variabel harga rumah \n",
    "(Column Name : SalePrice)! <br> Ceritakan kepada tim bisnis apa makna dari nilai nilai \n",
    "tersebut!"
   ]
  },
  {
   "cell_type": "code",
   "execution_count": 85,
   "id": "49c8fb4b-185b-4202-8ef7-5a9a7cb0a9ea",
   "metadata": {},
   "outputs": [
    {
     "data": {
      "text/plain": [
       "count      1460.0\n",
       "mean     180921.2\n",
       "std       79442.5\n",
       "min       34900.0\n",
       "25%      129975.0\n",
       "50%      163000.0\n",
       "75%      214000.0\n",
       "max      755000.0\n",
       "Name: SalePrice, dtype: float64"
      ]
     },
     "execution_count": 85,
     "metadata": {},
     "output_type": "execute_result"
    }
   ],
   "source": [
    "# Ukuran Pemusatan Data\n",
    "round(data[\"SalePrice\"].describe(),2)"
   ]
  },
  {
   "cell_type": "code",
   "execution_count": 101,
   "id": "12473fd1-8612-4e52-be44-cf205a4cd1e4",
   "metadata": {},
   "outputs": [
    {
     "name": "stdout",
     "output_type": "stream",
     "text": [
      "Jangkauan =  720100\n",
      "Jangkauan antar kuartil =  84025.0\n",
      "Simpangan kuartil =  42012.5\n"
     ]
    }
   ],
   "source": [
    "# Ukuran Penyebaran Data\n",
    "print(\"Jangkauan = \",data[\"SalePrice\"].max() - data[\"SalePrice\"].min())\n",
    "print(\"Jangkauan antar kuartil = \",data[\"SalePrice\"].quantile(0.75) - data[\"SalePrice\"].quantile(0.25))\n",
    "print(\"Simpangan kuartil = \",(data[\"SalePrice\"].quantile(0.75) - data[\"SalePrice\"].quantile(0.25))/2)"
   ]
  },
  {
   "cell_type": "markdown",
   "id": "f760c90c-b79d-4aea-8b35-5a2f7935988b",
   "metadata": {},
   "source": [
    "Interpretasi : <br>\n",
    "Ukuran Pemusatan yang digunakan adalah mean, median, kuartil 1 dan kuartil 3 sedangkan ukuran penyebaran yang digunakan adalah standar deviasi, jangkauan, jangkauan antar kuartil dan simpangan kuartil. Variabel SalePrice memiliki nilai mean sebesar 180921,2 dollar. Nilai tersebut lebih besar dibandingkan nilai mediannya yaitu sebesar 163000 dollar. Dengan nilai mean > median maka dapat diasumsikan tipe distribusi pada variabel SalePrice adalah positively skewed atau skew ke arah kanan. Kemudian nilai standar deviasi variabel SalePrice sebesar 79442,5 dollar yang dimana nilai tersebut lebih kecil dari pada nilai meannya. Hal ini menunjukkan variabel SalePrice yang kurang beragam."
   ]
  },
  {
   "cell_type": "markdown",
   "id": "7467f6c6-8e73-4961-9213-60a37f48738e",
   "metadata": {},
   "source": [
    "## Soal Kedua\n",
    "Tunjukkan statistika deskriptif untuk variabel harga rumah \n",
    "(Column Name : SalePrice) setiap tahunnya (Column Name : \n",
    "YrSold)! <br>\n",
    "Secara deskriptif jelaskan apakah ada perbedaan setiap \n",
    "tahunnya atau tidak?"
   ]
  },
  {
   "cell_type": "code",
   "execution_count": 102,
   "id": "1ca0ab45-cbba-49fe-acdc-b4c36df30988",
   "metadata": {},
   "outputs": [
    {
     "data": {
      "text/html": [
       "<div>\n",
       "<style scoped>\n",
       "    .dataframe tbody tr th:only-of-type {\n",
       "        vertical-align: middle;\n",
       "    }\n",
       "\n",
       "    .dataframe tbody tr th {\n",
       "        vertical-align: top;\n",
       "    }\n",
       "\n",
       "    .dataframe thead th {\n",
       "        text-align: right;\n",
       "    }\n",
       "</style>\n",
       "<table border=\"1\" class=\"dataframe\">\n",
       "  <thead>\n",
       "    <tr style=\"text-align: right;\">\n",
       "      <th></th>\n",
       "      <th>count</th>\n",
       "      <th>mean</th>\n",
       "      <th>std</th>\n",
       "      <th>min</th>\n",
       "      <th>25%</th>\n",
       "      <th>50%</th>\n",
       "      <th>75%</th>\n",
       "      <th>max</th>\n",
       "    </tr>\n",
       "    <tr>\n",
       "      <th>YrSold</th>\n",
       "      <th></th>\n",
       "      <th></th>\n",
       "      <th></th>\n",
       "      <th></th>\n",
       "      <th></th>\n",
       "      <th></th>\n",
       "      <th></th>\n",
       "      <th></th>\n",
       "    </tr>\n",
       "  </thead>\n",
       "  <tbody>\n",
       "    <tr>\n",
       "      <th>2006</th>\n",
       "      <td>314.0</td>\n",
       "      <td>182549.46</td>\n",
       "      <td>79426.84</td>\n",
       "      <td>35311.0</td>\n",
       "      <td>131375.0</td>\n",
       "      <td>163995.0</td>\n",
       "      <td>218782.5</td>\n",
       "      <td>625000.0</td>\n",
       "    </tr>\n",
       "    <tr>\n",
       "      <th>2007</th>\n",
       "      <td>329.0</td>\n",
       "      <td>186063.15</td>\n",
       "      <td>85768.17</td>\n",
       "      <td>39300.0</td>\n",
       "      <td>129900.0</td>\n",
       "      <td>167000.0</td>\n",
       "      <td>219500.0</td>\n",
       "      <td>755000.0</td>\n",
       "    </tr>\n",
       "    <tr>\n",
       "      <th>2008</th>\n",
       "      <td>304.0</td>\n",
       "      <td>177360.84</td>\n",
       "      <td>69735.61</td>\n",
       "      <td>40000.0</td>\n",
       "      <td>131250.0</td>\n",
       "      <td>164000.0</td>\n",
       "      <td>207000.0</td>\n",
       "      <td>446261.0</td>\n",
       "    </tr>\n",
       "    <tr>\n",
       "      <th>2009</th>\n",
       "      <td>338.0</td>\n",
       "      <td>179432.10</td>\n",
       "      <td>80879.24</td>\n",
       "      <td>34900.0</td>\n",
       "      <td>125250.0</td>\n",
       "      <td>162000.0</td>\n",
       "      <td>212750.0</td>\n",
       "      <td>582933.0</td>\n",
       "    </tr>\n",
       "    <tr>\n",
       "      <th>2010</th>\n",
       "      <td>175.0</td>\n",
       "      <td>177393.67</td>\n",
       "      <td>80451.28</td>\n",
       "      <td>55000.0</td>\n",
       "      <td>128100.0</td>\n",
       "      <td>155000.0</td>\n",
       "      <td>213250.0</td>\n",
       "      <td>611657.0</td>\n",
       "    </tr>\n",
       "  </tbody>\n",
       "</table>\n",
       "</div>"
      ],
      "text/plain": [
       "        count       mean       std      min       25%       50%       75%  \\\n",
       "YrSold                                                                      \n",
       "2006    314.0  182549.46  79426.84  35311.0  131375.0  163995.0  218782.5   \n",
       "2007    329.0  186063.15  85768.17  39300.0  129900.0  167000.0  219500.0   \n",
       "2008    304.0  177360.84  69735.61  40000.0  131250.0  164000.0  207000.0   \n",
       "2009    338.0  179432.10  80879.24  34900.0  125250.0  162000.0  212750.0   \n",
       "2010    175.0  177393.67  80451.28  55000.0  128100.0  155000.0  213250.0   \n",
       "\n",
       "             max  \n",
       "YrSold            \n",
       "2006    625000.0  \n",
       "2007    755000.0  \n",
       "2008    446261.0  \n",
       "2009    582933.0  \n",
       "2010    611657.0  "
      ]
     },
     "execution_count": 102,
     "metadata": {},
     "output_type": "execute_result"
    }
   ],
   "source": [
    "# Ukuran Pemusatan Data\n",
    "data_per_tahun = round(data.groupby([\"YrSold\"])[\"SalePrice\"].describe(),2)\n",
    "data_per_tahun"
   ]
  },
  {
   "cell_type": "code",
   "execution_count": 124,
   "id": "5f693b58-19bb-499d-933c-11b640fc8ee2",
   "metadata": {},
   "outputs": [
    {
     "data": {
      "text/html": [
       "<div>\n",
       "<style scoped>\n",
       "    .dataframe tbody tr th:only-of-type {\n",
       "        vertical-align: middle;\n",
       "    }\n",
       "\n",
       "    .dataframe tbody tr th {\n",
       "        vertical-align: top;\n",
       "    }\n",
       "\n",
       "    .dataframe thead th {\n",
       "        text-align: right;\n",
       "    }\n",
       "</style>\n",
       "<table border=\"1\" class=\"dataframe\">\n",
       "  <thead>\n",
       "    <tr style=\"text-align: right;\">\n",
       "      <th></th>\n",
       "      <th>count</th>\n",
       "      <th>mean</th>\n",
       "      <th>std</th>\n",
       "      <th>min</th>\n",
       "      <th>25%</th>\n",
       "      <th>50%</th>\n",
       "      <th>75%</th>\n",
       "      <th>max</th>\n",
       "      <th>Jangkauan</th>\n",
       "      <th>Jangkauan Antar Kuartil</th>\n",
       "      <th>Simpangan Kuartil</th>\n",
       "    </tr>\n",
       "    <tr>\n",
       "      <th>YrSold</th>\n",
       "      <th></th>\n",
       "      <th></th>\n",
       "      <th></th>\n",
       "      <th></th>\n",
       "      <th></th>\n",
       "      <th></th>\n",
       "      <th></th>\n",
       "      <th></th>\n",
       "      <th></th>\n",
       "      <th></th>\n",
       "      <th></th>\n",
       "    </tr>\n",
       "  </thead>\n",
       "  <tbody>\n",
       "    <tr>\n",
       "      <th>2006</th>\n",
       "      <td>314.0</td>\n",
       "      <td>182549.46</td>\n",
       "      <td>79426.84</td>\n",
       "      <td>35311.0</td>\n",
       "      <td>131375.0</td>\n",
       "      <td>163995.0</td>\n",
       "      <td>218782.5</td>\n",
       "      <td>625000.0</td>\n",
       "      <td>589689.0</td>\n",
       "      <td>87407.5</td>\n",
       "      <td>43703.75</td>\n",
       "    </tr>\n",
       "    <tr>\n",
       "      <th>2007</th>\n",
       "      <td>329.0</td>\n",
       "      <td>186063.15</td>\n",
       "      <td>85768.17</td>\n",
       "      <td>39300.0</td>\n",
       "      <td>129900.0</td>\n",
       "      <td>167000.0</td>\n",
       "      <td>219500.0</td>\n",
       "      <td>755000.0</td>\n",
       "      <td>715700.0</td>\n",
       "      <td>89600.0</td>\n",
       "      <td>44800.00</td>\n",
       "    </tr>\n",
       "    <tr>\n",
       "      <th>2008</th>\n",
       "      <td>304.0</td>\n",
       "      <td>177360.84</td>\n",
       "      <td>69735.61</td>\n",
       "      <td>40000.0</td>\n",
       "      <td>131250.0</td>\n",
       "      <td>164000.0</td>\n",
       "      <td>207000.0</td>\n",
       "      <td>446261.0</td>\n",
       "      <td>406261.0</td>\n",
       "      <td>75750.0</td>\n",
       "      <td>37875.00</td>\n",
       "    </tr>\n",
       "    <tr>\n",
       "      <th>2009</th>\n",
       "      <td>338.0</td>\n",
       "      <td>179432.10</td>\n",
       "      <td>80879.24</td>\n",
       "      <td>34900.0</td>\n",
       "      <td>125250.0</td>\n",
       "      <td>162000.0</td>\n",
       "      <td>212750.0</td>\n",
       "      <td>582933.0</td>\n",
       "      <td>548033.0</td>\n",
       "      <td>87500.0</td>\n",
       "      <td>43750.00</td>\n",
       "    </tr>\n",
       "    <tr>\n",
       "      <th>2010</th>\n",
       "      <td>175.0</td>\n",
       "      <td>177393.67</td>\n",
       "      <td>80451.28</td>\n",
       "      <td>55000.0</td>\n",
       "      <td>128100.0</td>\n",
       "      <td>155000.0</td>\n",
       "      <td>213250.0</td>\n",
       "      <td>611657.0</td>\n",
       "      <td>556657.0</td>\n",
       "      <td>85150.0</td>\n",
       "      <td>42575.00</td>\n",
       "    </tr>\n",
       "  </tbody>\n",
       "</table>\n",
       "</div>"
      ],
      "text/plain": [
       "        count       mean       std      min       25%       50%       75%  \\\n",
       "YrSold                                                                      \n",
       "2006    314.0  182549.46  79426.84  35311.0  131375.0  163995.0  218782.5   \n",
       "2007    329.0  186063.15  85768.17  39300.0  129900.0  167000.0  219500.0   \n",
       "2008    304.0  177360.84  69735.61  40000.0  131250.0  164000.0  207000.0   \n",
       "2009    338.0  179432.10  80879.24  34900.0  125250.0  162000.0  212750.0   \n",
       "2010    175.0  177393.67  80451.28  55000.0  128100.0  155000.0  213250.0   \n",
       "\n",
       "             max  Jangkauan  Jangkauan Antar Kuartil  Simpangan Kuartil  \n",
       "YrSold                                                                   \n",
       "2006    625000.0   589689.0                  87407.5           43703.75  \n",
       "2007    755000.0   715700.0                  89600.0           44800.00  \n",
       "2008    446261.0   406261.0                  75750.0           37875.00  \n",
       "2009    582933.0   548033.0                  87500.0           43750.00  \n",
       "2010    611657.0   556657.0                  85150.0           42575.00  "
      ]
     },
     "execution_count": 124,
     "metadata": {},
     "output_type": "execute_result"
    }
   ],
   "source": [
    "# Ukuran Penyebaran Data\n",
    "data_per_tahun[\"Jangkauan\"] = data_per_tahun[\"max\"]-data_per_tahun[\"min\"]\n",
    "data_per_tahun[\"Jangkauan Antar Kuartil\"] = data_per_tahun[\"75%\"]-data_per_tahun[\"25%\"]\n",
    "data_per_tahun[\"Simpangan Kuartil\"] = (data_per_tahun[\"75%\"]-data_per_tahun[\"25%\"])/2\n",
    "data_per_tahun"
   ]
  },
  {
   "cell_type": "code",
   "execution_count": 112,
   "id": "27eafeb9-4146-4d2b-92d1-b9011ea2edaf",
   "metadata": {},
   "outputs": [],
   "source": [
    "data_2006 = data[data[\"YrSold\"] == 2006]\n",
    "data_2007 = data[data[\"YrSold\"] == 2007]\n",
    "data_2008 = data[data[\"YrSold\"] == 2008]\n",
    "data_2009 = data[data[\"YrSold\"] == 2009]\n",
    "data_2010 = data[data[\"YrSold\"] == 2010]"
   ]
  },
  {
   "cell_type": "code",
   "execution_count": 116,
   "id": "4eed4fcf-2bdb-42a6-b76d-900d2c494fd6",
   "metadata": {},
   "outputs": [
    {
     "data": {
      "image/png": "[encoded data removed]",
      "text/plain": [
       "<Figure size 432x288 with 1 Axes>"
      ]
     },
     "metadata": {
      "needs_background": "light"
     },
     "output_type": "display_data"
    }
   ],
   "source": [
    "plt.hist(data_2006[\"SalePrice\"])\n",
    "plt.show()"
   ]
  },
  {
   "cell_type": "code",
   "execution_count": 117,
   "id": "5c990145-7d97-4633-9b22-83ecb7e2048b",
   "metadata": {},
   "outputs": [
    {
     "data": {
      "image/png": "[encoded data removed]",
      "text/plain": [
       "<Figure size 432x288 with 1 Axes>"
      ]
     },
     "metadata": {
      "needs_background": "light"
     },
     "output_type": "display_data"
    }
   ],
   "source": [
    "plt.hist(data_2007[\"SalePrice\"])\n",
    "plt.show()"
   ]
  },
  {
   "cell_type": "code",
   "execution_count": 118,
   "id": "2e4ffd25-ebe2-468c-8ae7-f4e79b96ce35",
   "metadata": {},
   "outputs": [
    {
     "data": {
      "image/png": "[encoded data removed]",
      "text/plain": [
       "<Figure size 432x288 with 1 Axes>"
      ]
     },
     "metadata": {
      "needs_background": "light"
     },
     "output_type": "display_data"
    }
   ],
   "source": [
    "plt.hist(data_2008[\"SalePrice\"])\n",
    "plt.show()"
   ]
  },
  {
   "cell_type": "code",
   "execution_count": 119,
   "id": "79a08d4b-c00c-43e9-bc9d-57fe1086ce80",
   "metadata": {},
   "outputs": [
    {
     "data": {
      "image/png": "[encoded data removed]",
      "text/plain": [
       "<Figure size 432x288 with 1 Axes>"
      ]
     },
     "metadata": {
      "needs_background": "light"
     },
     "output_type": "display_data"
    }
   ],
   "source": [
    "plt.hist(data_2009[\"SalePrice\"])\n",
    "plt.show()"
   ]
  },
  {
   "cell_type": "code",
   "execution_count": 120,
   "id": "80997e94-5ebb-4bbf-8531-ff1e6876b64c",
   "metadata": {},
   "outputs": [
    {
     "data": {
      "image/png": "[encoded data removed]",
      "text/plain": [
       "<Figure size 432x288 with 1 Axes>"
      ]
     },
     "metadata": {
      "needs_background": "light"
     },
     "output_type": "display_data"
    }
   ],
   "source": [
    "plt.hist(data_2010[\"SalePrice\"])\n",
    "plt.show()"
   ]
  },
  {
   "cell_type": "markdown",
   "id": "2059c699-250a-46ba-bf0a-e9dd6a4349d1",
   "metadata": {},
   "source": [
    "Interpretasi : <br>\n",
    "Terdapat historis 5 tahun pada data Hpuse Prices dari tahun 2006-2010. Dalam 5 tahun tersebut terdapat jumlah pembelian rumah yang berfluktuasi naik dan turun. Ukuran Pemusatan yang digunakan adalah mean, median, kuartil 1 dan kuartil 3 sedangkan ukuran penyebaran yang digunakan adalah standar deviasi, jangkauan, jangkauan antar kuartil dan simpangan kuartil.Kenaikan terbesar terjadi pada tahun 2008 - 2009 dan penurunan terbesar terjadi pada 2009 - 2010. Jika dibandingkan mean per tahun dengan mean data keseluruhan, pada tahun 2006-2007 memiliki nilai mean per tahun lebih besar dari pada mean data keseluruhan. Sedangkan pada tahun 2008-2010 memiliki nilai mean per tahun lebih kecil dari pada mean data keseluruhan. Setiap tahunnya nilai standar deviasi SalePrice selalu lebih kecil dibandingkan dengan nilai meannya. Hal ini menunjukkan bahwa variabel SalesPrice kurang beragam tiap tahunnya. <br>\n",
    "Secara deskriptif terlihat bahwa terdapat perbedaan nilai mean pada SalePrice di setiap tahunnya. Secara plot histogram setiap tahun memiliki tipe distribusi postively skewed yang bersesuaian dengan plot histogram data keseluruhan. Namun, apabila secara statistik perlu dilakukan analisis lebih lanjut uji ANOVA."
   ]
  },
  {
   "cell_type": "markdown",
   "id": "db5af6a3-a11c-4c8e-ae84-b8c0809e00e8",
   "metadata": {},
   "source": [
    "## Soal Ketiga\n",
    "Bagaimana distribusi harga rumah tersebut. Gunakan histogram plot \n",
    "tidak terbatas hanya histogram saja. Jelaskan sebaiknya untuk \n",
    "analisa apakah lebih baik menggunakan mean atau menggunakan \n",
    "median? Beserta alasannya (Column Name : SalePrice) <br> Ceritakan analisa tersebut dengan sudut pandang statistika. Buatlah \n",
    "tim bisnis paham maksud dari grafik histogram tersebut."
   ]
  },
  {
   "cell_type": "code",
   "execution_count": 87,
   "id": "684ff651-ba6d-40e5-8d38-34c38095f94e",
   "metadata": {},
   "outputs": [
    {
     "data": {
      "image/png": "[encoded data removed]",
      "text/plain": [
       "<Figure size 432x288 with 1 Axes>"
      ]
     },
     "metadata": {
      "needs_background": "light"
     },
     "output_type": "display_data"
    }
   ],
   "source": [
    "plt.hist(data[\"SalePrice\"])\n",
    "plt.show()"
   ]
  },
  {
   "cell_type": "markdown",
   "id": "595412a8-2d43-4933-af03-e4beb2070d07",
   "metadata": {},
   "source": [
    "Interpretasi :\n",
    "Berdasarkan hasil analisis histogram terlihat bahwa variabel SalePrice memiliki tipe distribusi positively skewed yang artinya nilai mean pada variabel tersebut lebih besar dibandingkan nilai mediannya."
   ]
  },
  {
   "cell_type": "code",
   "execution_count": 88,
   "id": "b8a493ac-4551-46de-b62f-cdd6e6d10803",
   "metadata": {},
   "outputs": [
    {
     "data": {
      "image/png": "[encoded data removed]",
      "text/plain": [
       "<Figure size 360x720 with 1 Axes>"
      ]
     },
     "metadata": {
      "needs_background": "light"
     },
     "output_type": "display_data"
    }
   ],
   "source": [
    "plt.figure(figsize = (5,10))\n",
    "sns.boxplot(y=\"SalePrice\",data = data)\n",
    "plt.show()"
   ]
  },
  {
   "cell_type": "markdown",
   "id": "5ab78883-7087-4c31-b321-a62fcaab5434",
   "metadata": {},
   "source": [
    "Interpretasi : <br>\n",
    "Berdasarkan box plot terlihat bahwa pada variabel SalePrice terdapat beberapa outlier sehingga untuk penggunaan mean pada variabel ini tidak disarankan karena ukuran mean tidak robust terhadap adanya outliers. Ukuran pemusatan yang dapat digunakan untuk SalePrice adalah median karena ukuran ini relatif robust terhadap outlier. Penggunaan median pada data SalePrice lebih representatif dibandingkan dengan menggunakan mean."
   ]
  },
  {
   "cell_type": "markdown",
   "id": "d19877b3-0747-4a80-9bfb-70d3edad3a96",
   "metadata": {},
   "source": [
    "## Soal Keempat\n",
    "Karena ada pernyataan bahwa setiap tahunnya harga \n",
    "rumah itu pasti naik. (tahun terjual : YrSold, harga rumah : \n",
    "SalePrice) Silahkan teman-teman buktikan dengan data yang \n",
    "ada menggunakan ilmu statistika? (Tidak terbatas pada \n",
    "pengujian apapun)"
   ]
  },
  {
   "cell_type": "code",
   "execution_count": 4,
   "id": "6b59dee2-31ec-4d14-8550-6cdbde86db17",
   "metadata": {},
   "outputs": [
    {
     "data": {
      "text/html": [
       "<div>\n",
       "<style scoped>\n",
       "    .dataframe tbody tr th:only-of-type {\n",
       "        vertical-align: middle;\n",
       "    }\n",
       "\n",
       "    .dataframe tbody tr th {\n",
       "        vertical-align: top;\n",
       "    }\n",
       "\n",
       "    .dataframe thead th {\n",
       "        text-align: right;\n",
       "    }\n",
       "</style>\n",
       "<table border=\"1\" class=\"dataframe\">\n",
       "  <thead>\n",
       "    <tr style=\"text-align: right;\">\n",
       "      <th></th>\n",
       "      <th>count</th>\n",
       "      <th>mean</th>\n",
       "      <th>std</th>\n",
       "      <th>min</th>\n",
       "      <th>25%</th>\n",
       "      <th>50%</th>\n",
       "      <th>75%</th>\n",
       "      <th>max</th>\n",
       "    </tr>\n",
       "    <tr>\n",
       "      <th>YrSold</th>\n",
       "      <th></th>\n",
       "      <th></th>\n",
       "      <th></th>\n",
       "      <th></th>\n",
       "      <th></th>\n",
       "      <th></th>\n",
       "      <th></th>\n",
       "      <th></th>\n",
       "    </tr>\n",
       "  </thead>\n",
       "  <tbody>\n",
       "    <tr>\n",
       "      <th>2006</th>\n",
       "      <td>314.0</td>\n",
       "      <td>182549.46</td>\n",
       "      <td>79426.84</td>\n",
       "      <td>35311.0</td>\n",
       "      <td>131375.0</td>\n",
       "      <td>163995.0</td>\n",
       "      <td>218782.5</td>\n",
       "      <td>625000.0</td>\n",
       "    </tr>\n",
       "    <tr>\n",
       "      <th>2007</th>\n",
       "      <td>329.0</td>\n",
       "      <td>186063.15</td>\n",
       "      <td>85768.17</td>\n",
       "      <td>39300.0</td>\n",
       "      <td>129900.0</td>\n",
       "      <td>167000.0</td>\n",
       "      <td>219500.0</td>\n",
       "      <td>755000.0</td>\n",
       "    </tr>\n",
       "    <tr>\n",
       "      <th>2008</th>\n",
       "      <td>304.0</td>\n",
       "      <td>177360.84</td>\n",
       "      <td>69735.61</td>\n",
       "      <td>40000.0</td>\n",
       "      <td>131250.0</td>\n",
       "      <td>164000.0</td>\n",
       "      <td>207000.0</td>\n",
       "      <td>446261.0</td>\n",
       "    </tr>\n",
       "    <tr>\n",
       "      <th>2009</th>\n",
       "      <td>338.0</td>\n",
       "      <td>179432.10</td>\n",
       "      <td>80879.24</td>\n",
       "      <td>34900.0</td>\n",
       "      <td>125250.0</td>\n",
       "      <td>162000.0</td>\n",
       "      <td>212750.0</td>\n",
       "      <td>582933.0</td>\n",
       "    </tr>\n",
       "    <tr>\n",
       "      <th>2010</th>\n",
       "      <td>175.0</td>\n",
       "      <td>177393.67</td>\n",
       "      <td>80451.28</td>\n",
       "      <td>55000.0</td>\n",
       "      <td>128100.0</td>\n",
       "      <td>155000.0</td>\n",
       "      <td>213250.0</td>\n",
       "      <td>611657.0</td>\n",
       "    </tr>\n",
       "  </tbody>\n",
       "</table>\n",
       "</div>"
      ],
      "text/plain": [
       "        count       mean       std      min       25%       50%       75%  \\\n",
       "YrSold                                                                      \n",
       "2006    314.0  182549.46  79426.84  35311.0  131375.0  163995.0  218782.5   \n",
       "2007    329.0  186063.15  85768.17  39300.0  129900.0  167000.0  219500.0   \n",
       "2008    304.0  177360.84  69735.61  40000.0  131250.0  164000.0  207000.0   \n",
       "2009    338.0  179432.10  80879.24  34900.0  125250.0  162000.0  212750.0   \n",
       "2010    175.0  177393.67  80451.28  55000.0  128100.0  155000.0  213250.0   \n",
       "\n",
       "             max  \n",
       "YrSold            \n",
       "2006    625000.0  \n",
       "2007    755000.0  \n",
       "2008    446261.0  \n",
       "2009    582933.0  \n",
       "2010    611657.0  "
      ]
     },
     "execution_count": 4,
     "metadata": {},
     "output_type": "execute_result"
    }
   ],
   "source": [
    "round(data.groupby([\"YrSold\"])[\"SalePrice\"].describe(),2)"
   ]
  },
  {
   "cell_type": "markdown",
   "id": "3beeef42-4edc-44cd-8642-850c42b5b2af",
   "metadata": {},
   "source": [
    "Untuk menetukan apakah ada perbedaan di setiap tahunnya perlu dilakukan analisis lebih lanjut dengan menggunakan ANOVA. Berikut adalah langkah-langkah ANOVA : <br>\n",
    "1. Menentukan Hipotesis <br>\n",
    "H0 : Tidak ada perbedaan rata-rata pada SalePrice setiap tahunnya <br>\n",
    "H1 : Ada perbedaan rata-rata pada SalePrice setiap tahunnya\n",
    "2. Menentukan nilai mean masing-masing tahun"
   ]
  },
  {
   "cell_type": "code",
   "execution_count": 5,
   "id": "ac75ae11-b096-4ac7-a1da-86329343e865",
   "metadata": {},
   "outputs": [],
   "source": [
    "data_2006 = data[data[\"YrSold\"] == 2006]\n",
    "data_2007 = data[data[\"YrSold\"] == 2007]\n",
    "data_2008 = data[data[\"YrSold\"] == 2008]\n",
    "data_2009 = data[data[\"YrSold\"] == 2009]\n",
    "data_2010 = data[data[\"YrSold\"] == 2010]"
   ]
  },
  {
   "cell_type": "markdown",
   "id": "d0a085d5-61a6-444c-a6a4-17cc6c766b21",
   "metadata": {},
   "source": [
    "3. Menghitung statistik F"
   ]
  },
  {
   "cell_type": "code",
   "execution_count": 6,
   "id": "428cddf1-de77-40a6-8786-cb036d64323d",
   "metadata": {},
   "outputs": [
    {
     "data": {
      "text/html": [
       "<div>\n",
       "<style scoped>\n",
       "    .dataframe tbody tr th:only-of-type {\n",
       "        vertical-align: middle;\n",
       "    }\n",
       "\n",
       "    .dataframe tbody tr th {\n",
       "        vertical-align: top;\n",
       "    }\n",
       "\n",
       "    .dataframe thead th {\n",
       "        text-align: right;\n",
       "    }\n",
       "</style>\n",
       "<table border=\"1\" class=\"dataframe\">\n",
       "  <thead>\n",
       "    <tr style=\"text-align: right;\">\n",
       "      <th></th>\n",
       "      <th>Id</th>\n",
       "      <th>MSSubClass</th>\n",
       "      <th>MSZoning</th>\n",
       "      <th>LotFrontage</th>\n",
       "      <th>LotArea</th>\n",
       "      <th>Street</th>\n",
       "      <th>Alley</th>\n",
       "      <th>LotShape</th>\n",
       "      <th>LandContour</th>\n",
       "      <th>Utilities</th>\n",
       "      <th>...</th>\n",
       "      <th>PoolArea</th>\n",
       "      <th>PoolQC</th>\n",
       "      <th>Fence</th>\n",
       "      <th>MiscFeature</th>\n",
       "      <th>MiscVal</th>\n",
       "      <th>MoSold</th>\n",
       "      <th>YrSold</th>\n",
       "      <th>SaleType</th>\n",
       "      <th>SaleCondition</th>\n",
       "      <th>SalePrice</th>\n",
       "    </tr>\n",
       "  </thead>\n",
       "  <tbody>\n",
       "    <tr>\n",
       "      <th>3</th>\n",
       "      <td>4</td>\n",
       "      <td>70</td>\n",
       "      <td>RL</td>\n",
       "      <td>60.0</td>\n",
       "      <td>9550</td>\n",
       "      <td>Pave</td>\n",
       "      <td>NaN</td>\n",
       "      <td>IR1</td>\n",
       "      <td>Lvl</td>\n",
       "      <td>AllPub</td>\n",
       "      <td>...</td>\n",
       "      <td>0</td>\n",
       "      <td>NaN</td>\n",
       "      <td>NaN</td>\n",
       "      <td>NaN</td>\n",
       "      <td>0</td>\n",
       "      <td>2</td>\n",
       "      <td>2006</td>\n",
       "      <td>WD</td>\n",
       "      <td>Abnorml</td>\n",
       "      <td>140000</td>\n",
       "    </tr>\n",
       "    <tr>\n",
       "      <th>11</th>\n",
       "      <td>12</td>\n",
       "      <td>60</td>\n",
       "      <td>RL</td>\n",
       "      <td>85.0</td>\n",
       "      <td>11924</td>\n",
       "      <td>Pave</td>\n",
       "      <td>NaN</td>\n",
       "      <td>IR1</td>\n",
       "      <td>Lvl</td>\n",
       "      <td>AllPub</td>\n",
       "      <td>...</td>\n",
       "      <td>0</td>\n",
       "      <td>NaN</td>\n",
       "      <td>NaN</td>\n",
       "      <td>NaN</td>\n",
       "      <td>0</td>\n",
       "      <td>7</td>\n",
       "      <td>2006</td>\n",
       "      <td>New</td>\n",
       "      <td>Partial</td>\n",
       "      <td>345000</td>\n",
       "    </tr>\n",
       "    <tr>\n",
       "      <th>17</th>\n",
       "      <td>18</td>\n",
       "      <td>90</td>\n",
       "      <td>RL</td>\n",
       "      <td>72.0</td>\n",
       "      <td>10791</td>\n",
       "      <td>Pave</td>\n",
       "      <td>NaN</td>\n",
       "      <td>Reg</td>\n",
       "      <td>Lvl</td>\n",
       "      <td>AllPub</td>\n",
       "      <td>...</td>\n",
       "      <td>0</td>\n",
       "      <td>NaN</td>\n",
       "      <td>NaN</td>\n",
       "      <td>Shed</td>\n",
       "      <td>500</td>\n",
       "      <td>10</td>\n",
       "      <td>2006</td>\n",
       "      <td>WD</td>\n",
       "      <td>Normal</td>\n",
       "      <td>90000</td>\n",
       "    </tr>\n",
       "    <tr>\n",
       "      <th>20</th>\n",
       "      <td>21</td>\n",
       "      <td>60</td>\n",
       "      <td>RL</td>\n",
       "      <td>101.0</td>\n",
       "      <td>14215</td>\n",
       "      <td>Pave</td>\n",
       "      <td>NaN</td>\n",
       "      <td>IR1</td>\n",
       "      <td>Lvl</td>\n",
       "      <td>AllPub</td>\n",
       "      <td>...</td>\n",
       "      <td>0</td>\n",
       "      <td>NaN</td>\n",
       "      <td>NaN</td>\n",
       "      <td>NaN</td>\n",
       "      <td>0</td>\n",
       "      <td>11</td>\n",
       "      <td>2006</td>\n",
       "      <td>New</td>\n",
       "      <td>Partial</td>\n",
       "      <td>325300</td>\n",
       "    </tr>\n",
       "    <tr>\n",
       "      <th>28</th>\n",
       "      <td>29</td>\n",
       "      <td>20</td>\n",
       "      <td>RL</td>\n",
       "      <td>47.0</td>\n",
       "      <td>16321</td>\n",
       "      <td>Pave</td>\n",
       "      <td>NaN</td>\n",
       "      <td>IR1</td>\n",
       "      <td>Lvl</td>\n",
       "      <td>AllPub</td>\n",
       "      <td>...</td>\n",
       "      <td>0</td>\n",
       "      <td>NaN</td>\n",
       "      <td>NaN</td>\n",
       "      <td>NaN</td>\n",
       "      <td>0</td>\n",
       "      <td>12</td>\n",
       "      <td>2006</td>\n",
       "      <td>WD</td>\n",
       "      <td>Normal</td>\n",
       "      <td>207500</td>\n",
       "    </tr>\n",
       "    <tr>\n",
       "      <th>...</th>\n",
       "      <td>...</td>\n",
       "      <td>...</td>\n",
       "      <td>...</td>\n",
       "      <td>...</td>\n",
       "      <td>...</td>\n",
       "      <td>...</td>\n",
       "      <td>...</td>\n",
       "      <td>...</td>\n",
       "      <td>...</td>\n",
       "      <td>...</td>\n",
       "      <td>...</td>\n",
       "      <td>...</td>\n",
       "      <td>...</td>\n",
       "      <td>...</td>\n",
       "      <td>...</td>\n",
       "      <td>...</td>\n",
       "      <td>...</td>\n",
       "      <td>...</td>\n",
       "      <td>...</td>\n",
       "      <td>...</td>\n",
       "      <td>...</td>\n",
       "    </tr>\n",
       "    <tr>\n",
       "      <th>1430</th>\n",
       "      <td>1431</td>\n",
       "      <td>60</td>\n",
       "      <td>RL</td>\n",
       "      <td>60.0</td>\n",
       "      <td>21930</td>\n",
       "      <td>Pave</td>\n",
       "      <td>NaN</td>\n",
       "      <td>IR3</td>\n",
       "      <td>Lvl</td>\n",
       "      <td>AllPub</td>\n",
       "      <td>...</td>\n",
       "      <td>0</td>\n",
       "      <td>NaN</td>\n",
       "      <td>NaN</td>\n",
       "      <td>NaN</td>\n",
       "      <td>0</td>\n",
       "      <td>7</td>\n",
       "      <td>2006</td>\n",
       "      <td>WD</td>\n",
       "      <td>Normal</td>\n",
       "      <td>192140</td>\n",
       "    </tr>\n",
       "    <tr>\n",
       "      <th>1434</th>\n",
       "      <td>1435</td>\n",
       "      <td>20</td>\n",
       "      <td>RL</td>\n",
       "      <td>80.0</td>\n",
       "      <td>17400</td>\n",
       "      <td>Pave</td>\n",
       "      <td>NaN</td>\n",
       "      <td>Reg</td>\n",
       "      <td>Low</td>\n",
       "      <td>AllPub</td>\n",
       "      <td>...</td>\n",
       "      <td>0</td>\n",
       "      <td>NaN</td>\n",
       "      <td>NaN</td>\n",
       "      <td>NaN</td>\n",
       "      <td>0</td>\n",
       "      <td>5</td>\n",
       "      <td>2006</td>\n",
       "      <td>WD</td>\n",
       "      <td>Normal</td>\n",
       "      <td>160000</td>\n",
       "    </tr>\n",
       "    <tr>\n",
       "      <th>1449</th>\n",
       "      <td>1450</td>\n",
       "      <td>180</td>\n",
       "      <td>RM</td>\n",
       "      <td>21.0</td>\n",
       "      <td>1533</td>\n",
       "      <td>Pave</td>\n",
       "      <td>NaN</td>\n",
       "      <td>Reg</td>\n",
       "      <td>Lvl</td>\n",
       "      <td>AllPub</td>\n",
       "      <td>...</td>\n",
       "      <td>0</td>\n",
       "      <td>NaN</td>\n",
       "      <td>NaN</td>\n",
       "      <td>NaN</td>\n",
       "      <td>0</td>\n",
       "      <td>8</td>\n",
       "      <td>2006</td>\n",
       "      <td>WD</td>\n",
       "      <td>Abnorml</td>\n",
       "      <td>92000</td>\n",
       "    </tr>\n",
       "    <tr>\n",
       "      <th>1452</th>\n",
       "      <td>1453</td>\n",
       "      <td>180</td>\n",
       "      <td>RM</td>\n",
       "      <td>35.0</td>\n",
       "      <td>3675</td>\n",
       "      <td>Pave</td>\n",
       "      <td>NaN</td>\n",
       "      <td>Reg</td>\n",
       "      <td>Lvl</td>\n",
       "      <td>AllPub</td>\n",
       "      <td>...</td>\n",
       "      <td>0</td>\n",
       "      <td>NaN</td>\n",
       "      <td>NaN</td>\n",
       "      <td>NaN</td>\n",
       "      <td>0</td>\n",
       "      <td>5</td>\n",
       "      <td>2006</td>\n",
       "      <td>WD</td>\n",
       "      <td>Normal</td>\n",
       "      <td>145000</td>\n",
       "    </tr>\n",
       "    <tr>\n",
       "      <th>1453</th>\n",
       "      <td>1454</td>\n",
       "      <td>20</td>\n",
       "      <td>RL</td>\n",
       "      <td>90.0</td>\n",
       "      <td>17217</td>\n",
       "      <td>Pave</td>\n",
       "      <td>NaN</td>\n",
       "      <td>Reg</td>\n",
       "      <td>Lvl</td>\n",
       "      <td>AllPub</td>\n",
       "      <td>...</td>\n",
       "      <td>0</td>\n",
       "      <td>NaN</td>\n",
       "      <td>NaN</td>\n",
       "      <td>NaN</td>\n",
       "      <td>0</td>\n",
       "      <td>7</td>\n",
       "      <td>2006</td>\n",
       "      <td>WD</td>\n",
       "      <td>Abnorml</td>\n",
       "      <td>84500</td>\n",
       "    </tr>\n",
       "  </tbody>\n",
       "</table>\n",
       "<p>314 rows × 81 columns</p>\n",
       "</div>"
      ],
      "text/plain": [
       "        Id  MSSubClass MSZoning  LotFrontage  LotArea Street Alley LotShape  \\\n",
       "3        4          70       RL         60.0     9550   Pave   NaN      IR1   \n",
       "11      12          60       RL         85.0    11924   Pave   NaN      IR1   \n",
       "17      18          90       RL         72.0    10791   Pave   NaN      Reg   \n",
       "20      21          60       RL        101.0    14215   Pave   NaN      IR1   \n",
       "28      29          20       RL         47.0    16321   Pave   NaN      IR1   \n",
       "...    ...         ...      ...          ...      ...    ...   ...      ...   \n",
       "1430  1431          60       RL         60.0    21930   Pave   NaN      IR3   \n",
       "1434  1435          20       RL         80.0    17400   Pave   NaN      Reg   \n",
       "1449  1450         180       RM         21.0     1533   Pave   NaN      Reg   \n",
       "1452  1453         180       RM         35.0     3675   Pave   NaN      Reg   \n",
       "1453  1454          20       RL         90.0    17217   Pave   NaN      Reg   \n",
       "\n",
       "     LandContour Utilities  ... PoolArea PoolQC Fence MiscFeature MiscVal  \\\n",
       "3            Lvl    AllPub  ...        0    NaN   NaN         NaN       0   \n",
       "11           Lvl    AllPub  ...        0    NaN   NaN         NaN       0   \n",
       "17           Lvl    AllPub  ...        0    NaN   NaN        Shed     500   \n",
       "20           Lvl    AllPub  ...        0    NaN   NaN         NaN       0   \n",
       "28           Lvl    AllPub  ...        0    NaN   NaN         NaN       0   \n",
       "...          ...       ...  ...      ...    ...   ...         ...     ...   \n",
       "1430         Lvl    AllPub  ...        0    NaN   NaN         NaN       0   \n",
       "1434         Low    AllPub  ...        0    NaN   NaN         NaN       0   \n",
       "1449         Lvl    AllPub  ...        0    NaN   NaN         NaN       0   \n",
       "1452         Lvl    AllPub  ...        0    NaN   NaN         NaN       0   \n",
       "1453         Lvl    AllPub  ...        0    NaN   NaN         NaN       0   \n",
       "\n",
       "     MoSold YrSold  SaleType  SaleCondition  SalePrice  \n",
       "3         2   2006        WD        Abnorml     140000  \n",
       "11        7   2006       New        Partial     345000  \n",
       "17       10   2006        WD         Normal      90000  \n",
       "20       11   2006       New        Partial     325300  \n",
       "28       12   2006        WD         Normal     207500  \n",
       "...     ...    ...       ...            ...        ...  \n",
       "1430      7   2006        WD         Normal     192140  \n",
       "1434      5   2006        WD         Normal     160000  \n",
       "1449      8   2006        WD        Abnorml      92000  \n",
       "1452      5   2006        WD         Normal     145000  \n",
       "1453      7   2006        WD        Abnorml      84500  \n",
       "\n",
       "[314 rows x 81 columns]"
      ]
     },
     "execution_count": 6,
     "metadata": {},
     "output_type": "execute_result"
    }
   ],
   "source": [
    "data_2006"
   ]
  },
  {
   "cell_type": "code",
   "execution_count": null,
   "id": "9a1958f5-d57c-4026-8723-ec184f7aa352",
   "metadata": {},
   "outputs": [],
   "source": []
  },
  {
   "cell_type": "code",
   "execution_count": 92,
   "id": "338fdd85-c84d-4a07-80a6-b9751bb7dd18",
   "metadata": {},
   "outputs": [
    {
     "data": {
      "text/plain": [
       "F_onewayResult(statistic=inf, pvalue=0.0)"
      ]
     },
     "execution_count": 92,
     "metadata": {},
     "output_type": "execute_result"
    }
   ],
   "source": [
    "anova = st.f_oneway(data_2006[\"YrSold\"], data_2007[\"YrSold\"],data_2008[\"YrSold\"],\n",
    "                    data_2009[\"YrSold\"], data_2010[\"YrSold\"])\n",
    "anova"
   ]
  },
  {
   "cell_type": "code",
   "execution_count": 93,
   "id": "0fccc55f-5cbf-4c61-9e3c-a1792ee260ac",
   "metadata": {},
   "outputs": [
    {
     "data": {
      "text/plain": [
       "0.0"
      ]
     },
     "execution_count": 93,
     "metadata": {},
     "output_type": "execute_result"
    }
   ],
   "source": [
    "pvalue = anova.pvalue\n",
    "pvalue"
   ]
  },
  {
   "cell_type": "markdown",
   "id": "1022e305-b945-4374-adca-96ce3338810c",
   "metadata": {},
   "source": [
    "4. Menentukan keputusan"
   ]
  },
  {
   "cell_type": "code",
   "execution_count": 95,
   "id": "d8dcf9b7-6f92-48fa-bff8-c274fd50fd56",
   "metadata": {},
   "outputs": [
    {
     "name": "stdout",
     "output_type": "stream",
     "text": [
      "Keputusan yang diambil adalah tolak H0\n"
     ]
    }
   ],
   "source": [
    "if pvalue < 0.05:\n",
    "  print(\"Keputusan yang diambil adalah tolak H0\")\n",
    "else:\n",
    "  print(\"Keputusan yang diambil adalah terima H0\")"
   ]
  },
  {
   "cell_type": "markdown",
   "id": "be5046ae-10e2-4e17-ad3f-9fe5a81b61e4",
   "metadata": {},
   "source": [
    "Kesimpulan : <br>\n",
    "Berdasarka uji ANOVA didapatkan kesimpulan tolak H0, artinya ada perbedaan rata-rata pada SalePrice setiap tahunnya."
   ]
  },
  {
   "cell_type": "markdown",
   "id": "599894e4-94f3-49a3-a55b-37188b364d33",
   "metadata": {},
   "source": [
    "## Soal Advanced\n",
    "Kasus yang akan digunakan adalah membuka akun deposit untuk \n",
    "nasabah bank. Pada kesempatan kali ini data scientist diminta tolong \n",
    "untuk menganalisa hasil ab-testing suatu perusahaan bank. Apakah \n",
    "jumlah campaign mampu meningkatkan keinginan user untuk \n",
    "membuka akun deposit atau tidak?\n",
    "\n",
    "Data yang digunakan berasal dari folder bank.zip file yang digunakan \n",
    "adalah bank-full.csv\n",
    "1. Untuk variabel jumlah campaign bisa dicek untuk kolom \n",
    "campaign \n",
    "2. Untuk variabel apakah akhirnya user membuka akun atau tidak \n",
    "bisa menggunakan variabel y"
   ]
  },
  {
   "cell_type": "code",
   "execution_count": 30,
   "id": "dd7e149d-cd05-405d-977c-1f599a512c56",
   "metadata": {},
   "outputs": [
    {
     "data": {
      "text/html": [
       "<div>\n",
       "<style scoped>\n",
       "    .dataframe tbody tr th:only-of-type {\n",
       "        vertical-align: middle;\n",
       "    }\n",
       "\n",
       "    .dataframe tbody tr th {\n",
       "        vertical-align: top;\n",
       "    }\n",
       "\n",
       "    .dataframe thead th {\n",
       "        text-align: right;\n",
       "    }\n",
       "</style>\n",
       "<table border=\"1\" class=\"dataframe\">\n",
       "  <thead>\n",
       "    <tr style=\"text-align: right;\">\n",
       "      <th></th>\n",
       "      <th>age</th>\n",
       "      <th>job</th>\n",
       "      <th>marital</th>\n",
       "      <th>education</th>\n",
       "      <th>default</th>\n",
       "      <th>balance</th>\n",
       "      <th>housing</th>\n",
       "      <th>loan</th>\n",
       "      <th>contact</th>\n",
       "      <th>day</th>\n",
       "      <th>month</th>\n",
       "      <th>duration</th>\n",
       "      <th>campaign</th>\n",
       "      <th>pdays</th>\n",
       "      <th>previous</th>\n",
       "      <th>poutcome</th>\n",
       "      <th>y</th>\n",
       "    </tr>\n",
       "  </thead>\n",
       "  <tbody>\n",
       "    <tr>\n",
       "      <th>0</th>\n",
       "      <td>58</td>\n",
       "      <td>management</td>\n",
       "      <td>married</td>\n",
       "      <td>tertiary</td>\n",
       "      <td>no</td>\n",
       "      <td>2143</td>\n",
       "      <td>yes</td>\n",
       "      <td>no</td>\n",
       "      <td>unknown</td>\n",
       "      <td>5</td>\n",
       "      <td>may</td>\n",
       "      <td>261</td>\n",
       "      <td>1</td>\n",
       "      <td>-1</td>\n",
       "      <td>0</td>\n",
       "      <td>unknown</td>\n",
       "      <td>no</td>\n",
       "    </tr>\n",
       "    <tr>\n",
       "      <th>1</th>\n",
       "      <td>44</td>\n",
       "      <td>technician</td>\n",
       "      <td>single</td>\n",
       "      <td>secondary</td>\n",
       "      <td>no</td>\n",
       "      <td>29</td>\n",
       "      <td>yes</td>\n",
       "      <td>no</td>\n",
       "      <td>unknown</td>\n",
       "      <td>5</td>\n",
       "      <td>may</td>\n",
       "      <td>151</td>\n",
       "      <td>1</td>\n",
       "      <td>-1</td>\n",
       "      <td>0</td>\n",
       "      <td>unknown</td>\n",
       "      <td>no</td>\n",
       "    </tr>\n",
       "    <tr>\n",
       "      <th>2</th>\n",
       "      <td>33</td>\n",
       "      <td>entrepreneur</td>\n",
       "      <td>married</td>\n",
       "      <td>secondary</td>\n",
       "      <td>no</td>\n",
       "      <td>2</td>\n",
       "      <td>yes</td>\n",
       "      <td>yes</td>\n",
       "      <td>unknown</td>\n",
       "      <td>5</td>\n",
       "      <td>may</td>\n",
       "      <td>76</td>\n",
       "      <td>1</td>\n",
       "      <td>-1</td>\n",
       "      <td>0</td>\n",
       "      <td>unknown</td>\n",
       "      <td>no</td>\n",
       "    </tr>\n",
       "    <tr>\n",
       "      <th>3</th>\n",
       "      <td>47</td>\n",
       "      <td>blue-collar</td>\n",
       "      <td>married</td>\n",
       "      <td>unknown</td>\n",
       "      <td>no</td>\n",
       "      <td>1506</td>\n",
       "      <td>yes</td>\n",
       "      <td>no</td>\n",
       "      <td>unknown</td>\n",
       "      <td>5</td>\n",
       "      <td>may</td>\n",
       "      <td>92</td>\n",
       "      <td>1</td>\n",
       "      <td>-1</td>\n",
       "      <td>0</td>\n",
       "      <td>unknown</td>\n",
       "      <td>no</td>\n",
       "    </tr>\n",
       "    <tr>\n",
       "      <th>4</th>\n",
       "      <td>33</td>\n",
       "      <td>unknown</td>\n",
       "      <td>single</td>\n",
       "      <td>unknown</td>\n",
       "      <td>no</td>\n",
       "      <td>1</td>\n",
       "      <td>no</td>\n",
       "      <td>no</td>\n",
       "      <td>unknown</td>\n",
       "      <td>5</td>\n",
       "      <td>may</td>\n",
       "      <td>198</td>\n",
       "      <td>1</td>\n",
       "      <td>-1</td>\n",
       "      <td>0</td>\n",
       "      <td>unknown</td>\n",
       "      <td>no</td>\n",
       "    </tr>\n",
       "  </tbody>\n",
       "</table>\n",
       "</div>"
      ],
      "text/plain": [
       "   age           job  marital  education default  balance housing loan  \\\n",
       "0   58    management  married   tertiary      no     2143     yes   no   \n",
       "1   44    technician   single  secondary      no       29     yes   no   \n",
       "2   33  entrepreneur  married  secondary      no        2     yes  yes   \n",
       "3   47   blue-collar  married    unknown      no     1506     yes   no   \n",
       "4   33       unknown   single    unknown      no        1      no   no   \n",
       "\n",
       "   contact  day month  duration  campaign  pdays  previous poutcome   y  \n",
       "0  unknown    5   may       261         1     -1         0  unknown  no  \n",
       "1  unknown    5   may       151         1     -1         0  unknown  no  \n",
       "2  unknown    5   may        76         1     -1         0  unknown  no  \n",
       "3  unknown    5   may        92         1     -1         0  unknown  no  \n",
       "4  unknown    5   may       198         1     -1         0  unknown  no  "
      ]
     },
     "execution_count": 30,
     "metadata": {},
     "output_type": "execute_result"
    }
   ],
   "source": [
    "data_bank = pd.read_csv(\"bank-full.csv\", delimiter = \";\")\n",
    "data_bank.head()"
   ]
  },
  {
   "cell_type": "code",
   "execution_count": 125,
   "id": "af318c55-a3a2-45f8-ae80-b1871163a56b",
   "metadata": {},
   "outputs": [
    {
     "data": {
      "text/plain": [
       "(45211, 17)"
      ]
     },
     "execution_count": 125,
     "metadata": {},
     "output_type": "execute_result"
    }
   ],
   "source": [
    "data_bank.shape"
   ]
  },
  {
   "cell_type": "code",
   "execution_count": 136,
   "id": "fb922fcd-9211-4b5c-b863-c25910a86b71",
   "metadata": {},
   "outputs": [
    {
     "data": {
      "text/plain": [
       "2.14"
      ]
     },
     "execution_count": 136,
     "metadata": {},
     "output_type": "execute_result"
    }
   ],
   "source": [
    "yes = data_bank[data_bank[\"y\"] == \"yes\"].campaign.mean()\n",
    "round(yes,2)"
   ]
  },
  {
   "cell_type": "code",
   "execution_count": 137,
   "id": "3f27eb4d-2152-4707-a2e7-49e51a3e6ec1",
   "metadata": {},
   "outputs": [
    {
     "data": {
      "text/plain": [
       "2.85"
      ]
     },
     "execution_count": 137,
     "metadata": {},
     "output_type": "execute_result"
    }
   ],
   "source": [
    "no = data_bank[data_bank[\"y\"] == \"no\"].campaign.mean()\n",
    "round(no,2)"
   ]
  },
  {
   "cell_type": "markdown",
   "id": "59b2b9cb-968f-4845-b86d-c0cbcda56197",
   "metadata": {
    "tags": []
   },
   "source": [
    "## Pemahaman konsep A/B Testing\n",
    "1. Apa nama experimentnya? <br>\n",
    "AB test Pengaruh jumlah campaign terhadap jumlah nasabah bank yang  membuka akun deposit\n",
    "\n"
   ]
  },
  {
   "cell_type": "markdown",
   "id": "12a1742d-6b6c-4a0f-a303-fa0037df6415",
   "metadata": {},
   "source": [
    "2. Definisikan Hipotesis <br>\n",
    "Jumlah campaign yang meningkat akan meningkatkan keinginan nasabah bank untuk membuka akun deposit\n",
    "                           "
   ]
  },
  {
   "cell_type": "markdown",
   "id": "46c03527-73d3-4bfb-af03-8e315d57fedc",
   "metadata": {},
   "source": [
    "3. Siapa participant-nya? <br>\n",
    "Nasabah bank tersebut"
   ]
  },
  {
   "cell_type": "markdown",
   "id": "cd531257-a22c-4bfa-bac1-0901643b6517",
   "metadata": {},
   "source": [
    "4. Variabel yang akan diuji apa? <br>\n",
    "Variabel campaign dan y"
   ]
  },
  {
   "cell_type": "markdown",
   "id": "09351aac-ead4-4e6f-8fb5-64e91908eae6",
   "metadata": {},
   "source": [
    "5. Metrics apa yang akan digunakan? <br>\n",
    "Jumlah nasabah bank yang membuka akun deposit, jumlah nasabah bank yang tidak membuka akun deposit"
   ]
  },
  {
   "cell_type": "markdown",
   "id": "bbc80d3b-6294-4146-93db-0a478e94cec7",
   "metadata": {},
   "source": [
    "6. Berapa sample size dan durasi experiment? <br>\n",
    "Sample size yang digunakan dapat dihitung dengan menggunakan rumus Slovin "
   ]
  },
  {
   "cell_type": "code",
   "execution_count": 130,
   "id": "ee31452b-8e9f-4847-8bb2-f2968fa10caa",
   "metadata": {},
   "outputs": [],
   "source": [
    "N = 45211\n",
    "e = 0.05"
   ]
  },
  {
   "cell_type": "code",
   "execution_count": 133,
   "id": "84af5860-8f03-4b57-9c21-0534947dda63",
   "metadata": {},
   "outputs": [
    {
     "data": {
      "text/plain": [
       "396"
      ]
     },
     "execution_count": 133,
     "metadata": {},
     "output_type": "execute_result"
    }
   ],
   "source": [
    "Slovin = N/(1+(N*e*e))\n",
    "round(Slovin)"
   ]
  },
  {
   "cell_type": "markdown",
   "id": "495e1f23-f9ea-40e7-9607-5de3fd1c4eec",
   "metadata": {},
   "source": [
    "Berdasarkan hasil perhitungan rumus Slovin didapatkan nilai sampel yang ideal sebanyak 396. Untuk melakukan experiment diperlukan durasi experiment sekitar 1 minggu"
   ]
  },
  {
   "cell_type": "markdown",
   "id": "a90b5b47-1ebb-4368-bff6-87140c5c4c54",
   "metadata": {},
   "source": [
    "## Pengujian Hipotesis\n",
    "1. Penentuan hipotesis <br>\n",
    "H0 = Tidak ada pengaruh signifikan antara jumlah campaign terhadap keinginan nasabah membuka akun deposit <br>\n",
    "H1 = Ada pengaruh signifikan antara jumlah campaign terhadap keinginan nasabah membuka akun deposit"
   ]
  },
  {
   "cell_type": "markdown",
   "id": "f440490d-ef9f-46fd-bd09-3d07ba7a7a43",
   "metadata": {},
   "source": [
    "2. Pengujian yang digunakan <br>\n",
    "Akan dilakukan uji hipotesis untuk mengetahui pengaruh campaign selaku variabel bebas terhadap variabel y selaku variabel terikat menggunakan uji T"
   ]
  },
  {
   "cell_type": "markdown",
   "id": "7bdd8d08-0aad-490d-a827-87de90c74382",
   "metadata": {},
   "source": [
    "3. Deteksi asumsi beserta cara penanganannya"
   ]
  },
  {
   "cell_type": "code",
   "execution_count": 141,
   "id": "df7236fd-f796-4835-882a-1306d48d7270",
   "metadata": {},
   "outputs": [],
   "source": [
    "yes = data_bank[data_bank[\"y\"] == \"yes\"]\n",
    "no = data_bank[data_bank[\"y\"] == \"no\"]"
   ]
  },
  {
   "cell_type": "code",
   "execution_count": 142,
   "id": "c8acec46-c5e1-43de-97f1-4398dc045e40",
   "metadata": {},
   "outputs": [
    {
     "data": {
      "text/plain": [
       "2.8463503832473322"
      ]
     },
     "execution_count": 142,
     "metadata": {},
     "output_type": "execute_result"
    }
   ],
   "source": [
    "yes['campaign'].mean()\n",
    "no['campaign'].mean()"
   ]
  },
  {
   "cell_type": "code",
   "execution_count": 144,
   "id": "b336304d-0e94-4c17-816c-c07e2b719c9a",
   "metadata": {},
   "outputs": [
    {
     "data": {
      "text/plain": [
       "Ttest_indResult(statistic=-15.599948860003781, pvalue=1.0123473642096297e-54)"
      ]
     },
     "execution_count": 144,
     "metadata": {},
     "output_type": "execute_result"
    }
   ],
   "source": [
    "ttest = st.ttest_ind(a = yes[\"campaign\"], b=no[\"campaign\"])\n",
    "ttest"
   ]
  },
  {
   "cell_type": "markdown",
   "id": "7eff5aee-c6c7-439a-9e99-40145de409a7",
   "metadata": {},
   "source": [
    "4. Hasil pengujian hipotesis"
   ]
  },
  {
   "cell_type": "code",
   "execution_count": 146,
   "id": "6a69e9b8-636a-4655-9df8-00fbfd255594",
   "metadata": {},
   "outputs": [
    {
     "data": {
      "text/plain": [
       "1.0123473642096297e-54"
      ]
     },
     "execution_count": 146,
     "metadata": {},
     "output_type": "execute_result"
    }
   ],
   "source": [
    "p_value = ttest.pvalue\n",
    "p_value"
   ]
  },
  {
   "cell_type": "code",
   "execution_count": 147,
   "id": "c66b9868-f9c0-4d77-b41c-02e57dab3bcd",
   "metadata": {},
   "outputs": [
    {
     "name": "stdout",
     "output_type": "stream",
     "text": [
      "Keputusan yang diambil adalah tolak H0\n"
     ]
    }
   ],
   "source": [
    "if pvalue < 0.05:\n",
    "  print(\"Keputusan yang diambil adalah tolak H0\")\n",
    "else:\n",
    "  print(\"Keputusan yang diambil adalah terima H0\")"
   ]
  },
  {
   "cell_type": "markdown",
   "id": "3e7243ef-acd3-4e8e-a407-33a280a75170",
   "metadata": {},
   "source": [
    "5. Kesimpulan dan interpretas"
   ]
  },
  {
   "cell_type": "markdown",
   "id": "8eb76d7b-798b-42fe-b901-1a5f221fccd3",
   "metadata": {},
   "source": [
    "Kesimpulan : <br>\n",
    "Berdasarka uji T didapatkan kesimpulan tolak H0, artinya ada pengaruh signifikan antara jumlah campaign terhadap keinginan nasabah membuka akun deposit"
   ]
  }
 ],
 "metadata": {
  "kernelspec": {
   "display_name": "Python 3 (ipykernel)",
   "language": "python",
   "name": "python3"
  },
  "language_info": {
   "codemirror_mode": {
    "name": "ipython",
    "version": 3
   },
   "file_extension": ".py",
   "mimetype": "text/x-python",
   "name": "python",
   "nbconvert_exporter": "python",
   "pygments_lexer": "ipython3",
   "version": "3.9.7"
  }
 },
 "nbformat": 4,
 "nbformat_minor": 5
}
